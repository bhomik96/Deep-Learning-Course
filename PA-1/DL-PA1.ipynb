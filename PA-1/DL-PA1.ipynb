{
 "cells": [
  {
   "cell_type": "code",
   "execution_count": 131,
   "metadata": {},
   "outputs": [],
   "source": [
    "import numpy as np\n",
    "from sklearn.metrics import accuracy_score\n",
    "from sklearn.metrics import confusion_matrix\n",
    "from sklearn.neighbors import KNeighborsClassifier\n",
    "import warnings\n",
    "warnings.filterwarnings(\"ignore\")"
   ]
  },
  {
   "cell_type": "markdown",
   "metadata": {},
   "source": [
    "## Q1(MNIST)"
   ]
  },
  {
   "cell_type": "code",
   "execution_count": 132,
   "metadata": {},
   "outputs": [],
   "source": [
    "import torch\n",
    "(x_train, y_train, x_test, y_test)=torch.load('mnist.pt')"
   ]
  },
  {
   "cell_type": "code",
   "execution_count": 133,
   "metadata": {},
   "outputs": [
    {
     "data": {
      "text/plain": [
       "torch.Size([1000, 28, 28])"
      ]
     },
     "execution_count": 133,
     "metadata": {},
     "output_type": "execute_result"
    }
   ],
   "source": [
    "x_train.shape"
   ]
  },
  {
   "cell_type": "code",
   "execution_count": 134,
   "metadata": {},
   "outputs": [
    {
     "name": "stdout",
     "output_type": "stream",
     "text": [
      "tensor(5, dtype=torch.uint8)\n",
      "tensor(0, dtype=torch.uint8)\n",
      "tensor(4, dtype=torch.uint8)\n",
      "tensor(1, dtype=torch.uint8)\n",
      "tensor(9, dtype=torch.uint8)\n",
      "tensor(2, dtype=torch.uint8)\n",
      "tensor(1, dtype=torch.uint8)\n",
      "tensor(3, dtype=torch.uint8)\n",
      "tensor(1, dtype=torch.uint8)\n",
      "tensor(4, dtype=torch.uint8)\n"
     ]
    }
   ],
   "source": [
    "for i in range(10):\n",
    "    print( y_train[i])"
   ]
  },
  {
   "cell_type": "code",
   "execution_count": 135,
   "metadata": {},
   "outputs": [],
   "source": [
    "#reshaping the dataset\n",
    "x_train=x_train.reshape((1000,28*28))\n",
    "x_test=x_test.reshape((100,28*28))"
   ]
  },
  {
   "cell_type": "code",
   "execution_count": 136,
   "metadata": {},
   "outputs": [],
   "source": [
    "#defining KNN function and printing confusion matrix and  accuracy results\n",
    "def KNN(n,x_train, y_train,x_test,y_test):\n",
    "    clf = KNeighborsClassifier(n_neighbors=n)\n",
    "    clf.fit(x_train, y_train)\n",
    "    y_pred=clf.predict(x_test)\n",
    "    print('Confusion Matrix of the given KNN classification with K =',n)\n",
    "    print()\n",
    "    print(confusion_matrix(y_test, y_pred))\n",
    "    print('\\nAccuracy of the above classification is ',accuracy_score(y_test, y_pred))"
   ]
  },
  {
   "cell_type": "code",
   "execution_count": 137,
   "metadata": {},
   "outputs": [
    {
     "name": "stdout",
     "output_type": "stream",
     "text": [
      "Confusion Matrix of the given KNN classification with K = 1\n",
      "\n",
      "[[ 8  0  0  0  0  0  0  0  0  0]\n",
      " [ 0 14  0  0  0  0  0  0  0  0]\n",
      " [ 0  0  7  1  0  0  0  0  0  0]\n",
      " [ 0  0  0  8  0  2  0  0  0  1]\n",
      " [ 0  0  0  0 10  0  0  0  0  4]\n",
      " [ 0  1  0  1  1  4  0  0  0  0]\n",
      " [ 2  0  0  0  0  0  8  0  0  0]\n",
      " [ 0  0  0  0  0  0  0 14  0  1]\n",
      " [ 0  0  1  0  0  0  0  0  1  0]\n",
      " [ 0  0  0  0  1  0  0  1  0  9]]\n",
      "\n",
      "Accuracy of the above classification is  0.83\n"
     ]
    }
   ],
   "source": [
    "#KNN with 1 neighbour\n",
    "KNN(1,x_train, y_train,x_test,y_test)"
   ]
  },
  {
   "cell_type": "code",
   "execution_count": 138,
   "metadata": {},
   "outputs": [
    {
     "name": "stdout",
     "output_type": "stream",
     "text": [
      "Confusion Matrix of the given KNN classification with K = 3\n",
      "\n",
      "[[ 8  0  0  0  0  0  0  0  0  0]\n",
      " [ 0 14  0  0  0  0  0  0  0  0]\n",
      " [ 1  1  6  0  0  0  0  0  0  0]\n",
      " [ 0  1  1  8  0  0  0  0  0  1]\n",
      " [ 0  0  0  0 10  0  0  0  0  4]\n",
      " [ 0  1  0  1  1  4  0  0  0  0]\n",
      " [ 2  0  0  0  0  0  8  0  0  0]\n",
      " [ 0  0  0  0  0  0  0 14  0  1]\n",
      " [ 0  0  0  0  0  0  0  0  2  0]\n",
      " [ 0  0  0  0  0  0  0  2  0  9]]\n",
      "\n",
      "Accuracy of the above classification is  0.83\n"
     ]
    }
   ],
   "source": [
    "#KNN with 3 neighbour\n",
    "KNN(3,x_train, y_train,x_test,y_test)"
   ]
  },
  {
   "cell_type": "code",
   "execution_count": 139,
   "metadata": {},
   "outputs": [
    {
     "name": "stdout",
     "output_type": "stream",
     "text": [
      "Confusion Matrix of the given KNN classification with K = 5\n",
      "\n",
      "[[ 8  0  0  0  0  0  0  0  0  0]\n",
      " [ 0 14  0  0  0  0  0  0  0  0]\n",
      " [ 0  1  6  0  1  0  0  0  0  0]\n",
      " [ 0  1  1  8  0  0  0  0  0  1]\n",
      " [ 0  0  0  0 11  0  0  0  0  3]\n",
      " [ 0  1  0  1  1  4  0  0  0  0]\n",
      " [ 1  0  0  0  1  0  8  0  0  0]\n",
      " [ 0  0  0  0  0  0  0 14  0  1]\n",
      " [ 0  0  0  0  0  0  0  0  2  0]\n",
      " [ 0  0  0  0  0  0  0  2  0  9]]\n",
      "\n",
      "Accuracy of the above classification is  0.84\n"
     ]
    }
   ],
   "source": [
    "#KNN with 5 neighbour\n",
    "KNN(5,x_train, y_train,x_test,y_test)"
   ]
  },
  {
   "cell_type": "markdown",
   "metadata": {},
   "source": [
    "## Q2(CIFAR)"
   ]
  },
  {
   "cell_type": "code",
   "execution_count": 140,
   "metadata": {},
   "outputs": [],
   "source": [
    "(x_train, y_train, x_test, y_test)=torch.load('cifar10.pt')"
   ]
  },
  {
   "cell_type": "code",
   "execution_count": 141,
   "metadata": {},
   "outputs": [],
   "source": [
    "#creating histogram of the given input data and returning as new input data\n",
    "def transform(dataset):\n",
    "    new_data=[]\n",
    "    for i in range(dataset.shape[0]):\n",
    "        tmp=dataset[i].reshape((3,32,32))\n",
    "        data=[]\n",
    "        for j in range(3):\n",
    "            pixels=tmp[j]\n",
    "            pixels=pixels.reshape(32*32)\n",
    "            count=[]\n",
    "            for i in range(256):\n",
    "                count.append(0)\n",
    "            for i in range(1024):\n",
    "                count[pixels[i]]+=1\n",
    "            data+=count\n",
    "        new_data.append(data)\n",
    "    return np.asarray(new_data)"
   ]
  },
  {
   "cell_type": "code",
   "execution_count": 142,
   "metadata": {},
   "outputs": [],
   "source": [
    "#creating histograms\n",
    "x_train=transform(x_train)\n",
    "x_test=transform(x_test)"
   ]
  },
  {
   "cell_type": "code",
   "execution_count": 143,
   "metadata": {},
   "outputs": [
    {
     "data": {
      "text/plain": [
       "(1000, 768)"
      ]
     },
     "execution_count": 143,
     "metadata": {},
     "output_type": "execute_result"
    }
   ],
   "source": [
    "x_train.shape"
   ]
  },
  {
   "cell_type": "code",
   "execution_count": 144,
   "metadata": {},
   "outputs": [
    {
     "data": {
      "text/plain": [
       "(100, 768)"
      ]
     },
     "execution_count": 144,
     "metadata": {},
     "output_type": "execute_result"
    }
   ],
   "source": [
    "x_test.shape"
   ]
  },
  {
   "cell_type": "code",
   "execution_count": 145,
   "metadata": {},
   "outputs": [
    {
     "name": "stdout",
     "output_type": "stream",
     "text": [
      "Confusion Matrix of the given KNN classification with K = 1\n",
      "\n",
      "[[3 0 0 0 0 1 0 2 1 3]\n",
      " [1 1 1 1 1 0 0 0 0 1]\n",
      " [0 1 3 1 0 0 2 0 0 1]\n",
      " [0 0 1 1 1 0 4 0 0 3]\n",
      " [1 0 2 1 0 0 2 0 0 1]\n",
      " [0 1 1 0 0 0 2 2 0 2]\n",
      " [0 1 1 1 4 1 4 3 0 1]\n",
      " [0 1 2 0 1 1 2 0 2 2]\n",
      " [3 2 0 1 0 0 1 0 4 2]\n",
      " [0 1 3 1 3 0 0 2 0 1]]\n",
      "\n",
      "Accuracy of the above classification is  0.17\n"
     ]
    }
   ],
   "source": [
    "#KNN with 1 neighbour\n",
    "KNN(1,x_train, y_train,x_test,y_test)"
   ]
  },
  {
   "cell_type": "code",
   "execution_count": 146,
   "metadata": {},
   "outputs": [
    {
     "name": "stdout",
     "output_type": "stream",
     "text": [
      "Confusion Matrix of the given KNN classification with K = 3\n",
      "\n",
      "[[4 1 1 0 1 1 1 1 0 0]\n",
      " [1 2 1 1 0 0 0 0 0 1]\n",
      " [1 2 3 0 0 0 1 0 0 1]\n",
      " [0 3 1 1 0 0 4 0 0 1]\n",
      " [2 0 2 1 1 0 1 0 0 0]\n",
      " [0 3 1 0 0 1 1 2 0 0]\n",
      " [0 1 2 4 2 3 3 1 0 0]\n",
      " [2 3 0 0 1 0 2 0 2 1]\n",
      " [4 2 1 0 0 0 0 1 3 2]\n",
      " [0 1 3 3 2 0 0 1 0 1]]\n",
      "\n",
      "Accuracy of the above classification is  0.19\n"
     ]
    }
   ],
   "source": [
    "#KNN with 3 neighbour\n",
    "KNN(3,x_train, y_train,x_test,y_test)"
   ]
  },
  {
   "cell_type": "code",
   "execution_count": 147,
   "metadata": {},
   "outputs": [
    {
     "name": "stdout",
     "output_type": "stream",
     "text": [
      "Confusion Matrix of the given KNN classification with K = 5\n",
      "\n",
      "[[3 1 1 0 1 0 2 1 0 1]\n",
      " [1 2 1 1 0 0 0 0 0 1]\n",
      " [1 2 1 0 1 0 1 0 0 2]\n",
      " [0 3 1 1 0 0 4 0 0 1]\n",
      " [1 0 1 2 1 1 1 0 0 0]\n",
      " [0 2 1 0 1 1 1 1 0 1]\n",
      " [0 2 0 2 2 3 5 2 0 0]\n",
      " [1 2 1 0 1 1 2 0 1 2]\n",
      " [2 3 2 2 0 0 0 0 2 2]\n",
      " [0 0 1 4 1 0 2 2 0 1]]\n",
      "\n",
      "Accuracy of the above classification is  0.17\n"
     ]
    }
   ],
   "source": [
    "#KNN with 5 neighbour\n",
    "KNN(5,x_train, y_train,x_test,y_test)"
   ]
  },
  {
   "cell_type": "code",
   "execution_count": null,
   "metadata": {},
   "outputs": [],
   "source": []
  }
 ],
 "metadata": {
  "kernelspec": {
   "display_name": "Python 3",
   "language": "python",
   "name": "python3"
  },
  "language_info": {
   "codemirror_mode": {
    "name": "ipython",
    "version": 3
   },
   "file_extension": ".py",
   "mimetype": "text/x-python",
   "name": "python",
   "nbconvert_exporter": "python",
   "pygments_lexer": "ipython3",
   "version": "3.6.7"
  }
 },
 "nbformat": 4,
 "nbformat_minor": 2
}
